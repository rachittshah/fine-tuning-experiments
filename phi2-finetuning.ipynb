{
  "nbformat": 4,
  "nbformat_minor": 0,
  "metadata": {
    "colab": {
      "provenance": [],
      "gpuType": "T4",
      "authorship_tag": "ABX9TyPSng6BwQYGT3cMK6iLLmUk",
      "include_colab_link": true
    },
    "kernelspec": {
      "name": "python3",
      "display_name": "Python 3"
    },
    "language_info": {
      "name": "python"
    },
    "accelerator": "GPU"
  },
  "cells": [
    {
      "cell_type": "markdown",
      "metadata": {
        "id": "view-in-github",
        "colab_type": "text"
      },
      "source": [
        "<a href=\"https://colab.research.google.com/github/rachittshah/fine-tuning-experiments/blob/main/phi2-finetuning.ipynb\" target=\"_parent\"><img src=\"https://colab.research.google.com/assets/colab-badge.svg\" alt=\"Open In Colab\"/></a>"
      ]
    },
    {
      "cell_type": "code",
      "execution_count": 1,
      "metadata": {
        "id": "C1yq6gGsDuSF",
        "colab": {
          "base_uri": "https://localhost:8080/"
        },
        "outputId": "2e735f05-c8bf-49cf-a288-994b7532145b"
      },
      "outputs": [
        {
          "output_type": "stream",
          "name": "stdout",
          "text": [
            "\u001b[2K     \u001b[90m━━━━━━━━━━━━━━━━━━━━━━━━━━━━━━━━━━━━━━━━\u001b[0m \u001b[32m8.2/8.2 MB\u001b[0m \u001b[31m19.8 MB/s\u001b[0m eta \u001b[36m0:00:00\u001b[0m\n",
            "\u001b[2K     \u001b[90m━━━━━━━━━━━━━━━━━━━━━━━━━━━━━━━━━━━━━━━━\u001b[0m \u001b[32m507.1/507.1 kB\u001b[0m \u001b[31m18.9 MB/s\u001b[0m eta \u001b[36m0:00:00\u001b[0m\n",
            "\u001b[2K     \u001b[90m━━━━━━━━━━━━━━━━━━━━━━━━━━━━━━━━━━━━━━━━\u001b[0m \u001b[32m265.7/265.7 kB\u001b[0m \u001b[31m13.7 MB/s\u001b[0m eta \u001b[36m0:00:00\u001b[0m\n",
            "\u001b[2K     \u001b[90m━━━━━━━━━━━━━━━━━━━━━━━━━━━━━━━━━━━━━━━━\u001b[0m \u001b[32m168.3/168.3 kB\u001b[0m \u001b[31m9.9 MB/s\u001b[0m eta \u001b[36m0:00:00\u001b[0m\n",
            "\u001b[2K     \u001b[90m━━━━━━━━━━━━━━━━━━━━━━━━━━━━━━━━━━━━━━━━\u001b[0m \u001b[32m139.1/139.1 kB\u001b[0m \u001b[31m14.1 MB/s\u001b[0m eta \u001b[36m0:00:00\u001b[0m\n",
            "\u001b[2K     \u001b[90m━━━━━━━━━━━━━━━━━━━━━━━━━━━━━━━━━━━━━━━━\u001b[0m \u001b[32m92.6/92.6 MB\u001b[0m \u001b[31m10.0 MB/s\u001b[0m eta \u001b[36m0:00:00\u001b[0m\n",
            "\u001b[2K     \u001b[90m━━━━━━━━━━━━━━━━━━━━━━━━━━━━━━━━━━━━━━━━\u001b[0m \u001b[32m115.3/115.3 kB\u001b[0m \u001b[31m8.4 MB/s\u001b[0m eta \u001b[36m0:00:00\u001b[0m\n",
            "\u001b[2K     \u001b[90m━━━━━━━━━━━━━━━━━━━━━━━━━━━━━━━━━━━━━━━━\u001b[0m \u001b[32m134.8/134.8 kB\u001b[0m \u001b[31m11.4 MB/s\u001b[0m eta \u001b[36m0:00:00\u001b[0m\n",
            "\u001b[2K     \u001b[90m━━━━━━━━━━━━━━━━━━━━━━━━━━━━━━━━━━━━━━━━\u001b[0m \u001b[32m78.9/78.9 kB\u001b[0m \u001b[31m6.0 MB/s\u001b[0m eta \u001b[36m0:00:00\u001b[0m\n",
            "\u001b[?25hCollecting einops\n",
            "  Downloading einops-0.7.0-py3-none-any.whl (44 kB)\n",
            "\u001b[2K     \u001b[90m━━━━━━━━━━━━━━━━━━━━━━━━━━━━━━━━━━━━━━━━\u001b[0m \u001b[32m44.6/44.6 kB\u001b[0m \u001b[31m1.5 MB/s\u001b[0m eta \u001b[36m0:00:00\u001b[0m\n",
            "\u001b[?25hInstalling collected packages: einops\n",
            "Successfully installed einops-0.7.0\n"
          ]
        }
      ],
      "source": [
        "#install transformers library to import autotokenizer\n",
        "#install datasets library to load the dataset from hugging face\n",
        "#install peft library to fine-tune the Llama 2 model by reducing computational and memory requirements. PEFT methods only fine-tune a small number of (extra) model parameters\n",
        "#install trl library to import SFT trainer, trl is a wrapper that can be for Supervised Fine Tuning or for Reinforcement Learning from Human Feedback\n",
        "#install bitsandbytes library for quantization because we are not going to use the model in full precision\n",
        "!pip install -q -U transformers datasets accelerate peft trl bitsandbytes\n",
        "!pip install einops"
      ]
    },
    {
      "cell_type": "code",
      "source": [
        "import os\n",
        "import torch\n",
        "from datasets import load_dataset\n",
        "from transformers import (\n",
        "    AutoModelForCausalLM,\n",
        "    AutoTokenizer,\n",
        "    BitsAndBytesConfig,\n",
        "    TrainingArguments,\n",
        "    pipeline,\n",
        ")\n",
        "from peft import LoraConfig, PeftModel, prepare_model_for_kbit_training\n",
        "from trl import SFTTrainer\n",
        "\n",
        "### Set the enviornment as Hugging Face Token\n",
        "os.environ[\"HF_TOKEN\"] = \"hf\""
      ],
      "metadata": {
        "id": "f3Ol3llUD8H2"
      },
      "execution_count": 2,
      "outputs": []
    },
    {
      "cell_type": "code",
      "source": [
        " # Model\n",
        "base_model = \"microsoft/phi-2\"\n",
        "#Fine-tune model name\n",
        "new_model = \"phi2-eval\"\n",
        "#Load the Dataset from hugging face\n",
        "dataset = load_dataset(\"kaist-ai/Feedback-Collection\",split=\"train\")\n",
        "#Tokenizer\n",
        "#Load the tokenizer from Llama 2\n",
        "tokenizer = AutoTokenizer.from_pretrained(base_model, use_fast=True)\n",
        "#In Llama2 we dont have the padding token which is a very big problem, because we have a dataset with different number of tokens in each row.\n",
        "#So, we need to pad it so they all have the same length and here i am using end of sentence token and this will have an impact on the generation of our model\n",
        "#I am using End of Sentence token for fine-tuning\n",
        "tokenizer.pad_token=tokenizer.eos_token\n",
        "tokenizer.padding_side=\"right\""
      ],
      "metadata": {
        "id": "-3dKyzn4_UCM"
      },
      "execution_count": null,
      "outputs": []
    },
    {
      "cell_type": "code",
      "source": [
        "#Configration of QLoRA\n",
        "#Quantization Configuration\n",
        "#To reduce the VRAM usage we will load the model in 4 bit precision and we will do quantization\n",
        "bnb_config = BitsAndBytesConfig(\n",
        "    load_in_4bit=True,\n",
        "    #Quant type\n",
        "    #We will use the \"nf4\" format this was introduced in the QLoRA paper\n",
        "    bnb_4bit_quant_type=\"nf4\",\n",
        "    #As the model weights are stored using 4 bits and when we want to compute its only going to use 16 bits so we have more accuracy\n",
        "    bnb_4bit_compute_dtype=torch.float16,\n",
        "    #Quantization parameters are quantized\n",
        "    bnb_4bit_use_double_quant=False,\n",
        ")\n",
        "\n",
        "\n",
        "# LoRA configuration\n",
        "peft_config = LoraConfig(\n",
        "    r=32,\n",
        "    lora_alpha=64,\n",
        "    lora_dropout=0.05,\n",
        "    bias=\"none\",\n",
        "    task_type=\"CAUSAL_LM\",\n",
        "    target_modules= [\"Wqkv\", \"fc1\", \"fc2\" ] # [\"Wqkv\", \"out_proj\", \"fc1\", \"fc2\" ], - 41M params\n",
        "    # modules_to_save=[\"embed_tokens\",\"lm_head\"]\n",
        ")\n",
        "\n",
        "# Load base moodel\n",
        "model = AutoModelForCausalLM.from_pretrained(\n",
        "    base_model,\n",
        "    quantization_config=bnb_config,\n",
        "    # use_flash_attention_2=True, # Phi does not support yet.\n",
        "    trust_remote_code=True,\n",
        "    flash_attn=True,\n",
        "    flash_rotary=True,\n",
        "    fused_dense=True,\n",
        "    low_cpu_mem_usage=True,\n",
        "    device_map={\"\": 0},\n",
        "    revision=\"refs/pr/23\",\n",
        ")\n",
        "\n",
        "\n",
        "model.config.use_cache = False\n",
        "model.config.pretraining_tp = 1\n",
        "\n",
        "# Cast the layernorm in fp32, make output embedding layer require grads, add the upcasting of the lmhead to fp32\n",
        "#prepare_model_for_kbit_training---> This function basically helps to built the best model possible\n",
        "model = prepare_model_for_kbit_training(model,use_gradient_checkpointing=True)"
      ],
      "metadata": {
        "id": "-WNXMcc__wBR"
      },
      "execution_count": null,
      "outputs": []
    },
    {
      "cell_type": "code",
      "source": [
        "# Set training arguments\n",
        "training_arguments = TrainingArguments(\n",
        "        output_dir=\"./results\",\n",
        "        num_train_epochs=10,#3,5 good for the Llama 2 Model\n",
        "        per_device_train_batch_size=4,# Number of batches that we are going to take for every step\n",
        "        gradient_accumulation_steps=32,\n",
        "        evaluation_strategy=\"steps\",#Not helpful because we donot want to evaluate the model we just want to train it\n",
        "        eval_steps=2000,\n",
        "        logging_steps=25,\n",
        "        optim=\"paged_adamw_8bit\",#Adam Optimizer we will be using but a version that is paged and in 8 bits, so it will lose less memory\n",
        "        learning_rate=2e-4,\n",
        "        lr_scheduler_type=\"cosine\",\n",
        "        warmup_steps=10,\n",
        "        warmup_ratio=0.05,\n",
        "        report_to=\"tensorboard\",\n",
        "        weight_decay=0.01,\n",
        "        max_steps=-1, # if maximum steps=2, it will stop after two steps\n",
        ")\n",
        "\n",
        "# Set supervised fine-tuning parameters\n",
        "trainer = SFTTrainer(\n",
        "    model=model,\n",
        "    train_dataset=dataset,\n",
        "    eval_dataset=dataset,#No separate evaluation dataset, i am using the same dataset\n",
        "    peft_config=peft_config,\n",
        "    dataset_text_field=\"instruction\",\n",
        "    max_seq_length=512,# In dataset creation we put a threshold 2k for context length (input token limit) but we dont have enough VRAM unfortunately it will take a lot of VRAM to put everything into memory so we are just gonna stop at 512\n",
        "    tokenizer=tokenizer,\n",
        "    args=training_arguments,\n",
        ")\n",
        "\n",
        "# Train model\n",
        "trainer.train()\n",
        "\n",
        "# Save trained model\n",
        "trainer.model.save_pretrained(new_model)"
      ],
      "metadata": {
        "id": "iR_LbCnJ_zwR"
      },
      "execution_count": null,
      "outputs": []
    },
    {
      "cell_type": "code",
      "source": [
        "# Empty VRAM\n",
        "del model\n",
        "del pipe\n",
        "del trainer\n",
        "import gc\n",
        "gc.collect()"
      ],
      "metadata": {
        "id": "OAHgvBEV_7xI"
      },
      "execution_count": null,
      "outputs": []
    },
    {
      "cell_type": "code",
      "source": [
        "###Merge the Base Model with the Trained Adapter\n",
        "# Reload model in FP16 and merge it with LoRA weights\n",
        "model = AutoModelForCausalLM.from_pretrained(\n",
        "    base_model,\n",
        "    low_cpu_mem_usage=True,\n",
        "    return_dict=True,\n",
        "    torch_dtype=torch.float16,\n",
        "    device_map={\"\": 0},\n",
        ")\n",
        "#Reload the Base Model and load the QLoRA adapters\n",
        "model = PeftModel.from_pretrained(model, new_model)\n",
        "model = model.merge_and_unload()\n",
        "\n",
        "# Reload tokenizer to save it\n",
        "tokenizer = AutoTokenizer.from_pretrained(base_model, trust_remote_code=True)\n",
        "tokenizer.pad_token = tokenizer.eos_token\n",
        "tokenizer.padding_side = \"right\""
      ],
      "metadata": {
        "id": "UVsQOhOl_8u4"
      },
      "execution_count": null,
      "outputs": []
    },
    {
      "cell_type": "code",
      "source": [
        "###Push the Fine-Tuned Model and Tokenizer to the Hugging Face Hub\n",
        "!huggingface-cli login\n",
        "\n",
        "model.push_to_hub(\"rachittshah/evalphi-2.7b\", check_pr=True, use_auth_token=\"hf\")\n",
        "tokenizer.push_to_hub(\"rachittshah/evalphi-2.7b\", check_pr=True, use_auth_token=\"hf\")"
      ],
      "metadata": {
        "id": "AKQ4rfOo_-xd"
      },
      "execution_count": null,
      "outputs": []
    }
  ]
}